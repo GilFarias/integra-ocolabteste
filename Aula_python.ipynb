{
  "nbformat": 4,
  "nbformat_minor": 0,
  "metadata": {
    "colab": {
      "name": "Aula_python.ipynb",
      "provenance": [],
      "authorship_tag": "ABX9TyNA/clRwU8YRHtiLcXV2v53",
      "include_colab_link": true
    },
    "kernelspec": {
      "name": "python3",
      "display_name": "Python 3"
    },
    "language_info": {
      "name": "python"
    }
  },
  "cells": [
    {
      "cell_type": "markdown",
      "metadata": {
        "id": "view-in-github",
        "colab_type": "text"
      },
      "source": [
        "<a href=\"https://colab.research.google.com/github/GilFarias/integra-ocolabteste/blob/main/Aula_python.ipynb\" target=\"_parent\"><img src=\"https://colab.research.google.com/assets/colab-badge.svg\" alt=\"Open In Colab\"/></a>"
      ]
    },
    {
      "cell_type": "code",
      "metadata": {
        "colab": {
          "base_uri": "https://localhost:8080/"
        },
        "id": "TVpIOnxTVH4C",
        "outputId": "75549a35-52f2-4145-a8c2-18fbc626c26d"
      },
      "source": [
        "a = int(input ('Digite o primeiro valor:'))\n",
        "b = int(input ('Digite o segundo valor:'))\n",
        "soma = a+b\n",
        "subtracao = a-b\n",
        "multiplicacao = a*b\n",
        "divisao = a/b\n",
        "resto = a%b\n",
        "print(soma)\n",
        "print(subtracao)\n",
        "print(divisao)\n",
        "print(multiplicacao)\n",
        "print(resto)\n",
        "print ('soma: ' + str(soma))\n",
        "print('subtração: {}'.format(subtracao))\n",
        "print('divisão: {}'.format(divisao))\n",
        "print('Multiplicação: {}'.format(multiplicacao))\n"
      ],
      "execution_count": null,
      "outputs": [
        {
          "output_type": "stream",
          "text": [
            "Digite o primeiro valor:23\n",
            "Digite o segundo valor:233\n",
            "256\n",
            "-210\n",
            "0.09871244635193133\n",
            "5359\n",
            "23\n",
            "soma: 256\n",
            "subtração: -210\n",
            "divisão: 0.09871244635193133\n",
            "Multiplicação: 5359\n"
          ],
          "name": "stdout"
        }
      ]
    },
    {
      "cell_type": "code",
      "metadata": {
        "colab": {
          "base_uri": "https://localhost:8080/"
        },
        "id": "ulfZsIb48ePn",
        "outputId": "9b81cbb6-e89d-4b08-897a-7c0b76089ab6"
      },
      "source": [
        "a = int (input('Digite o primeiro numero:'))\n",
        "b = int (input('Digite o segundo numero:'))\n",
        "c = int (input('Digite o terceiro numero:'))\n",
        "\n",
        "\n",
        "if a>b and a>c:\n",
        "  print('O maior numero é: {}' .format(a))\n",
        "elif b>c and b>a:\n",
        "   print('O maior numero é: {}' .format(b))\n",
        "else:\n",
        "  print('O maior numero é: {}' .format(c))\n",
        "print('-FIM-')"
      ],
      "execution_count": null,
      "outputs": [
        {
          "output_type": "stream",
          "text": [
            "Digite o primeiro numero:1\n",
            "Digite o segundo numero:2\n",
            "Digite o terceiro numero:3\n",
            "O maior numero é: 3\n",
            "-FIM-\n"
          ],
          "name": "stdout"
        }
      ]
    },
    {
      "cell_type": "code",
      "metadata": {
        "colab": {
          "base_uri": "https://localhost:8080/"
        },
        "id": "7gtpjEkr_SvH",
        "outputId": "4bcb89ab-131d-4da2-8294-c3d3d4e9b4f4"
      },
      "source": [
        "a = int (input('Digite o primeiro numero:'))\n",
        "b = int (input('Digite o segundo numero:'))\n",
        "\n",
        "resto_a = a%2\n",
        "resto_b = b%2\n",
        "\n",
        "if resto_a ==0 or resto_b==0:\n",
        "  print(\"Foi digitado um numero par!!!\")\n",
        "else:\n",
        "  print('Não foi digitado um numero par')"
      ],
      "execution_count": null,
      "outputs": [
        {
          "output_type": "stream",
          "text": [
            "Digite o primeiro numero:1\n",
            "Digite o segundo numero:1\n",
            "Não foi digitado um numero par\n"
          ],
          "name": "stdout"
        }
      ]
    },
    {
      "cell_type": "code",
      "metadata": {
        "colab": {
          "base_uri": "https://localhost:8080/"
        },
        "id": "VfKHFd8FDBre",
        "outputId": "bc2dce4f-2900-417c-ada2-947d850c4e76"
      },
      "source": [
        "a = int(input('Digite sua primeira nota:'))\n",
        "while a>10:\n",
        "  a = int(input('Voce digitou errado!!' + 'Digite novamente:'))\n",
        "b = int(input('Digite sua segunda nota:'))\n",
        "c = int(input('Digite sua terceira nota:'))\n",
        "d = int(input('Digite sua quarta nota:'))\n",
        "\n",
        "media_notas = (a+b+c+d)/4\n",
        "\n",
        "print('Sua média final: {}'.format(media_notas))"
      ],
      "execution_count": null,
      "outputs": [
        {
          "output_type": "stream",
          "text": [
            "Digite sua primeira nota:12\n",
            "Voce digitou errado!!Digite novamente:12\n",
            "Voce digitou errado!!Digite novamente:12\n",
            "Voce digitou errado!!Digite novamente:1\n",
            "Digite sua segunda nota:2\n",
            "Digite sua terceira nota:3\n",
            "Digite sua quarta nota:3\n",
            "Sua média final: 2.25\n"
          ],
          "name": "stdout"
        }
      ]
    },
    {
      "cell_type": "code",
      "metadata": {
        "colab": {
          "base_uri": "https://localhost:8080/"
        },
        "id": "eoUBFpIzI-Qn",
        "outputId": "21500a30-d567-4b3c-f8a8-d9612cc790ec"
      },
      "source": [
        "a = int(input('Digite o primeito valor: '))\n",
        "b = int(input('Digite o primeito valor: '))\n",
        "soma = a + b\n",
        "print('O valor da soma é: {soma}'.format(soma=soma))"
      ],
      "execution_count": null,
      "outputs": [
        {
          "output_type": "stream",
          "text": [
            "Digite o primeito valor: 12\n",
            "Digite o primeito valor: 12\n",
            "O valor da soma é: 24\n"
          ],
          "name": "stdout"
        }
      ]
    }
  ]
}